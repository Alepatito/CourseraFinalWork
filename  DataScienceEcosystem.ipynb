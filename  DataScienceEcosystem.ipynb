{
 "cells": [
  {
   "cell_type": "markdown",
   "id": "ba63ed61-95dc-4e4b-9ab3-c294ed0d03d4",
   "metadata": {},
   "source": [
    "# Data Science Tools and Ecosystem"
   ]
  },
  {
   "cell_type": "markdown",
   "id": "b759f876-c7b6-4f02-99e9-b7fca88b2fe0",
   "metadata": {},
   "source": [
    "## In this notebook, Data Science Tools and Ecosystem are summarized."
   ]
  },
  {
   "attachments": {},
   "cell_type": "markdown",
   "id": "79fbe295-bf04-4f85-93dc-0f90c9d66891",
   "metadata": {},
   "source": [
    "__Objectives:__\n",
    "\n",
    "- List popular languages for Data Science\n",
    "- Jupyter Notebook and Jupyter Lab\n",
    "- RStudio\n",
    "- Github"
   ]
  },
  {
   "cell_type": "markdown",
   "id": "49b825d0-2a38-46cc-8bf1-1aea2c6eb84a",
   "metadata": {},
   "source": [
    "### Some of the popular languages that Data Scientists use are:\n",
    "\n",
    "1. Python\n",
    "2. R\n",
    "3. SQL"
   ]
  },
  {
   "cell_type": "markdown",
   "id": "26a34006-5a0e-4730-8c7a-afa9433644f9",
   "metadata": {},
   "source": [
    "### Some of the commonly used libraries used by Data Scientists include:\n",
    "\n",
    "1. NumPY\n",
    "2. Pandas\n",
    "3. caret\n",
    "4. ggplot2"
   ]
  },
  {
   "cell_type": "markdown",
   "id": "10078337-5a0c-46a7-a252-1bf238ac7dd0",
   "metadata": {},
   "source": [
    "Data Science Tools | \n",
    "-- |\n",
    "Apache Spark |\n",
    "Hadoop |\n",
    "Jupyter Notebook |\n"
   ]
  },
  {
   "cell_type": "markdown",
   "id": "94bb80cd-9a2c-4055-a077-bdd1795b3406",
   "metadata": {},
   "source": [
    "### Below are a few examples of evaluating arithmetic expressions in Python"
   ]
  },
  {
   "cell_type": "code",
   "execution_count": 2,
   "id": "6d058312-d2c8-4f15-9c6d-3a78048eb4fa",
   "metadata": {},
   "outputs": [
    {
     "name": "stdout",
     "output_type": "stream",
     "text": [
      "17\n"
     ]
    }
   ],
   "source": [
    "# This a simple arithmetic expression to mutiply then add integers\n",
    "# returns the expected output of 17\n",
    "\n",
    "a = 3\n",
    "b = 4\n",
    "c = (3*  4) + 5\n",
    "\n",
    "print(c)"
   ]
  },
  {
   "cell_type": "code",
   "execution_count": 4,
   "id": "f92717f5-f4b7-40f7-8e19-e6b6617f39fa",
   "metadata": {},
   "outputs": [
    {
     "name": "stdout",
     "output_type": "stream",
     "text": [
      "3.3333333333333335\n"
     ]
    }
   ],
   "source": [
    "# This will convert 200 minutes to hours by diving by 60\n",
    "\n",
    "minutes = 200\n",
    "\n",
    "hour = 60\n",
    "\n",
    "total_hours = minutes/hour\n",
    "\n",
    "print(total_hours)"
   ]
  },
  {
   "cell_type": "markdown",
   "id": "05103585-6662-4b76-be05-601fb800d388",
   "metadata": {},
   "source": [
    "## Author\n",
    "\n",
    "Alejandro Torres"
   ]
  },
  {
   "cell_type": "code",
   "execution_count": null,
   "id": "82192dec-4c95-473e-a9be-a94f1e4bf8ca",
   "metadata": {},
   "outputs": [],
   "source": []
  }
 ],
 "metadata": {
  "kernelspec": {
   "display_name": "Python 3 (ipykernel)",
   "language": "python",
   "name": "python3"
  },
  "language_info": {
   "codemirror_mode": {
    "name": "ipython",
    "version": 3
   },
   "file_extension": ".py",
   "mimetype": "text/x-python",
   "name": "python",
   "nbconvert_exporter": "python",
   "pygments_lexer": "ipython3",
   "version": "3.12.3"
  }
 },
 "nbformat": 4,
 "nbformat_minor": 5
}
